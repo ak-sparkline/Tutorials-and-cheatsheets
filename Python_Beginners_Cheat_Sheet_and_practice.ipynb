{
  "nbformat": 4,
  "nbformat_minor": 0,
  "metadata": {
    "colab": {
      "name": "Python Beginners Cheat Sheet and practice.ipynb",
      "provenance": [],
      "authorship_tag": "ABX9TyP6A701YB9fax55PdT6KKWx",
      "include_colab_link": true
    },
    "kernelspec": {
      "name": "python3",
      "display_name": "Python 3"
    },
    "language_info": {
      "name": "python"
    }
  },
  "cells": [
    {
      "cell_type": "markdown",
      "metadata": {
        "id": "view-in-github",
        "colab_type": "text"
      },
      "source": [
        "<a href=\"https://colab.research.google.com/github/ak-sparkline/Tutorials-and-cheatsheets/blob/main/Python_Beginners_Cheat_Sheet_and_practice.ipynb\" target=\"_parent\"><img src=\"https://colab.research.google.com/assets/colab-badge.svg\" alt=\"Open In Colab\"/></a>"
      ]
    },
    {
      "cell_type": "markdown",
      "metadata": {
        "id": "DHuJuiXCMma6"
      },
      "source": [
        "# Python Cheat Sheet & Practice\n",
        "\n",
        "This notebook is a quick primer to the amazing world of Python. It's not meant\n",
        "to be exhaustive, but is meant to cover many of the basic learnings that practitioners of the language find useful.\n",
        "\n",
        "The recommended audience for this notebook are beginners.\n",
        "\n"
      ]
    },
    {
      "cell_type": "markdown",
      "metadata": {
        "id": "OsqDQAY-slel"
      },
      "source": [
        "# Data types and operators\n",
        "\n",
        "Try typing out the instructions below, line by line\n",
        "in your own notebook"
      ]
    },
    {
      "cell_type": "code",
      "metadata": {
        "colab": {
          "base_uri": "https://localhost:8080/"
        },
        "id": "Z4vx4W6EOScA",
        "outputId": "e1d6a5a5-af4d-41ba-fb7f-f11f96d7e432"
      },
      "source": [
        "# Python can be used as a calculator\n",
        "# The following line adds two numbers\n",
        "\n",
        "5 + 7\n",
        "\n"
      ],
      "execution_count": 26,
      "outputs": [
        {
          "output_type": "execute_result",
          "data": {
            "text/plain": [
              "12"
            ]
          },
          "metadata": {
            "tags": []
          },
          "execution_count": 26
        }
      ]
    },
    {
      "cell_type": "code",
      "metadata": {
        "id": "jErw-QXDMhBA",
        "colab": {
          "base_uri": "https://localhost:8080/"
        },
        "outputId": "41f5aa96-5437-4948-dc5a-d61c35c85fdb"
      },
      "source": [
        "# We can use the \"type()\" method to gauge the type of the parameters passed\n",
        "\n",
        "type(5+7)\n",
        "\n",
        "\n",
        "# This is also a very intuitive way to understand functions and arguments\n",
        "# You \"Pass\" arguments to functions as we have done above"
      ],
      "execution_count": 27,
      "outputs": [
        {
          "output_type": "execute_result",
          "data": {
            "text/plain": [
              "int"
            ]
          },
          "metadata": {
            "tags": []
          },
          "execution_count": 27
        }
      ]
    },
    {
      "cell_type": "code",
      "metadata": {
        "id": "qw84MT7cO7wo"
      },
      "source": [
        "# Basic Subtraction in Python\n",
        "\n",
        "4.5 - 5.5\n"
      ],
      "execution_count": null,
      "outputs": []
    },
    {
      "cell_type": "code",
      "metadata": {
        "id": "h0MRyVEsO9QZ"
      },
      "source": [
        "type(7.1 - 2.1)"
      ],
      "execution_count": null,
      "outputs": []
    },
    {
      "cell_type": "code",
      "metadata": {
        "colab": {
          "base_uri": "https://localhost:8080/",
          "height": 35
        },
        "id": "hJmZm-QUO-VF",
        "outputId": "36e55591-b325-4b81-aafa-30466344ffcb"
      },
      "source": [
        "# What happens when you add two strings ?\n",
        "\n",
        "\"Hello\" + \" world\""
      ],
      "execution_count": null,
      "outputs": [
        {
          "output_type": "execute_result",
          "data": {
            "application/vnd.google.colaboratory.intrinsic+json": {
              "type": "string"
            },
            "text/plain": [
              "'HelloWorld'"
            ]
          },
          "metadata": {
            "tags": []
          },
          "execution_count": 2
        }
      ]
    },
    {
      "cell_type": "code",
      "metadata": {
        "colab": {
          "base_uri": "https://localhost:8080/"
        },
        "id": "6ndVYQQAPCAY",
        "outputId": "8b88bda5-5592-41e6-fd14-797f13dcf47f"
      },
      "source": [
        "# And what type is this addition of?\n",
        "\n",
        "type(\"Hello\" + \" world\")"
      ],
      "execution_count": null,
      "outputs": [
        {
          "output_type": "execute_result",
          "data": {
            "text/plain": [
              "str"
            ]
          },
          "metadata": {
            "tags": []
          },
          "execution_count": 3
        }
      ]
    },
    {
      "cell_type": "code",
      "metadata": {
        "colab": {
          "base_uri": "https://localhost:8080/"
        },
        "id": "tap8fA1D8Rkh",
        "outputId": "1ce3a03a-2f0a-4a43-d670-c96f6ac7c0a8"
      },
      "source": [
        "# Storing values in a variable\n",
        "\n",
        "my_string = \"Hello\" + \" world\"\n",
        "my_int = 10\n",
        "my_float = 7.42\n",
        "\n",
        "print(\"The value of my_string is: \" , my_string) #Notice that you can combine sentences and variables\n",
        "print(\"The value of my_int is: \", my_int)\n",
        "print(\"The value of my_float is: \", my_float)"
      ],
      "execution_count": 2,
      "outputs": [
        {
          "output_type": "stream",
          "text": [
            "The value of my_string is:  Hello world\n",
            "The value of my_int is:  10\n",
            "The value of my_float is:  7.42\n"
          ],
          "name": "stdout"
        }
      ]
    },
    {
      "cell_type": "markdown",
      "metadata": {
        "id": "MvbPtuUuPRDW"
      },
      "source": [
        "# Exercises - 1\n",
        "\n",
        "1. Make a shopping list of 5 items. You could choose to type them out as a string.\n",
        "2. Use python as a calculator to find their total. The prices of the five items \n",
        "are: 9.42, 5.67, 8.21, 3.78 and 6.24\n",
        "3. Use the len() function to determine the length of your shopping list string.\n",
        "4. Pick your favorite snack. Print it out using the print() function.\n",
        "5. Try multiplying strings and numbers. Multiply the name of your favorite snack by 10 and store it in a different variable.\n"
      ]
    },
    {
      "cell_type": "code",
      "metadata": {
        "colab": {
          "base_uri": "https://localhost:8080/"
        },
        "id": "rMJE0Hdj9H7h",
        "outputId": "9a321ae0-fde0-436f-80c9-d75bf9aeb922"
      },
      "source": [
        "#Solutions to Exercise 1:\n",
        "\n",
        "shopping_list = \"Bread, Eggs, Jam, Milk, Honey\"\n",
        "\n",
        "list_total = 9.42 + 5.67 + 8.21 + 3.78 + 6.24\n",
        "\n",
        "len(shopping_list)\n",
        "\n",
        "print(\"Doritos \")\n",
        "\n",
        "mult_str = \"Doritos \" * 10\n",
        "\n",
        "\n",
        "print(\"My Shopping list is: \", shopping_list, \"\\nWith the total amount: \", \n",
        "      list_total, \"\\nThe length of the shopping list is: \", len(shopping_list),\n",
        "      \"\\nThe favorite snack 10 times is: \", mult_str)"
      ],
      "execution_count": 4,
      "outputs": [
        {
          "output_type": "stream",
          "text": [
            "Doritos \n",
            "My Shopping list is:  Bread, Eggs, Jam, Milk, Honey \n",
            " With the total amount:  33.32 \n",
            " The length of the shopping list is:  29 \n",
            " The favorite snack 10 times is:  Doritos Doritos Doritos Doritos Doritos Doritos Doritos Doritos Doritos Doritos \n"
          ],
          "name": "stdout"
        }
      ]
    },
    {
      "cell_type": "markdown",
      "metadata": {
        "id": "l9CH8v3E-cLo"
      },
      "source": [
        "# Variables, Types and Functions\n",
        "\n",
        "We've already seen a few functions thus far including the \"print()\" function.\n",
        "\n",
        "Lets look at a few more:\n"
      ]
    },
    {
      "cell_type": "code",
      "metadata": {
        "colab": {
          "base_uri": "https://localhost:8080/"
        },
        "id": "lvkQhNH2-XRb",
        "outputId": "ce32ef62-e51a-405e-cc8d-62443c5497c9"
      },
      "source": [
        "# First store a value in a variable as we've seen above:\n",
        "\n",
        "x = 5\n",
        "\n",
        "\n",
        "# Now, check if x is an integer\n",
        "\n",
        "isinstance(x, int)\n",
        "\n",
        "# This function takes TWO arguments. The first one is the value we want to check\n",
        "# and the second argument is the type we want to check against.\n",
        "# The result is a \"True\" or a \"False\" -> Also known as a \"Boolean\"\n"
      ],
      "execution_count": 5,
      "outputs": [
        {
          "output_type": "execute_result",
          "data": {
            "text/plain": [
              "True"
            ]
          },
          "metadata": {
            "tags": []
          },
          "execution_count": 5
        }
      ]
    },
    {
      "cell_type": "code",
      "metadata": {
        "colab": {
          "base_uri": "https://localhost:8080/"
        },
        "id": "Caa1uoNP_Gk2",
        "outputId": "cdabf126-1a7f-4ddd-cadf-11fbc4fc8a7a"
      },
      "source": [
        "# Check if x is of a type we pass:\n",
        "\n",
        "print(isinstance(x, type(8)))\n",
        "\n",
        "print(isinstance(x, type('a')))"
      ],
      "execution_count": 7,
      "outputs": [
        {
          "output_type": "stream",
          "text": [
            "True\n",
            "False\n"
          ],
          "name": "stdout"
        }
      ]
    },
    {
      "cell_type": "code",
      "metadata": {
        "colab": {
          "base_uri": "https://localhost:8080/"
        },
        "id": "XsX0Hknj_VTe",
        "outputId": "047a4d14-4725-45b6-e9c4-708a67c1cc05"
      },
      "source": [
        "# Now, lets change x to another type. Can we do this?\n",
        "\n",
        "x =  \"Hello\"\n",
        "\n",
        "# And then check if its type is an int:\n",
        "\n",
        "print(isinstance(x,int))\n",
        "\n",
        "# We see that this is not just possible but deceivingly simple.\n",
        "# This is why python is known as a Language with \"Dynamic typing\", ie, what the\n",
        "# value of the variable is does not need to always be a single type and can be \n",
        "# changed."
      ],
      "execution_count": 8,
      "outputs": [
        {
          "output_type": "stream",
          "text": [
            "False\n"
          ],
          "name": "stdout"
        }
      ]
    },
    {
      "cell_type": "code",
      "metadata": {
        "colab": {
          "base_uri": "https://localhost:8080/"
        },
        "id": "tywfx3TA_55N",
        "outputId": "911dc598-bb7f-40a4-e1b7-31b9bb085acc"
      },
      "source": [
        "# Converting from one type to another:\n",
        "\n",
        "a = \"3.1234\" # This is a string. Use the isinstance() function to confirm for yourself.\n",
        "\n",
        "b = float(a) # Most types can be \"Cast to\"\n",
        "\n",
        "# Now check the type of variable b\n",
        "\n",
        "type(b)"
      ],
      "execution_count": 9,
      "outputs": [
        {
          "output_type": "execute_result",
          "data": {
            "text/plain": [
              "float"
            ]
          },
          "metadata": {
            "tags": []
          },
          "execution_count": 9
        }
      ]
    },
    {
      "cell_type": "code",
      "metadata": {
        "colab": {
          "base_uri": "https://localhost:8080/",
          "height": 198
        },
        "id": "vDiF9hNzAegC",
        "outputId": "fc9a493a-8de8-4c44-bbbe-7c5e2d0fe26a"
      },
      "source": [
        "# Now try converting a type we know cannot be expressed as a float:\n",
        "\n",
        "float(x) #Why does this fail ?"
      ],
      "execution_count": 10,
      "outputs": [
        {
          "output_type": "error",
          "ename": "ValueError",
          "evalue": "ignored",
          "traceback": [
            "\u001b[0;31m---------------------------------------------------------------------------\u001b[0m",
            "\u001b[0;31mValueError\u001b[0m                                Traceback (most recent call last)",
            "\u001b[0;32m<ipython-input-10-5011865f509a>\u001b[0m in \u001b[0;36m<module>\u001b[0;34m()\u001b[0m\n\u001b[1;32m      1\u001b[0m \u001b[0;31m# Now try converting a type we know cannot be expressed as a float:\u001b[0m\u001b[0;34m\u001b[0m\u001b[0;34m\u001b[0m\u001b[0;34m\u001b[0m\u001b[0m\n\u001b[1;32m      2\u001b[0m \u001b[0;34m\u001b[0m\u001b[0m\n\u001b[0;32m----> 3\u001b[0;31m \u001b[0mfloat\u001b[0m\u001b[0;34m(\u001b[0m\u001b[0mx\u001b[0m\u001b[0;34m)\u001b[0m \u001b[0;31m#Why does this fail ?\u001b[0m\u001b[0;34m\u001b[0m\u001b[0;34m\u001b[0m\u001b[0m\n\u001b[0m",
            "\u001b[0;31mValueError\u001b[0m: could not convert string to float: 'Hello'"
          ]
        }
      ]
    },
    {
      "cell_type": "code",
      "metadata": {
        "colab": {
          "base_uri": "https://localhost:8080/"
        },
        "id": "ChXODezaArMY",
        "outputId": "0796db46-71ae-4c62-f5fa-2e46ec3b86dc"
      },
      "source": [
        "# More conversions:\n",
        "\n",
        "c = str(b)\n",
        "\n",
        "print(c)\n",
        "\n",
        "i = int(b)\n",
        "\n",
        "print(i)"
      ],
      "execution_count": 13,
      "outputs": [
        {
          "output_type": "stream",
          "text": [
            "3.1234\n",
            "3\n"
          ],
          "name": "stdout"
        }
      ]
    },
    {
      "cell_type": "code",
      "metadata": {
        "colab": {
          "base_uri": "https://localhost:8080/"
        },
        "id": "B6uWw6Q_A8oc",
        "outputId": "e5650f09-9529-4462-d6a9-afd62edc310f"
      },
      "source": [
        "# Sometimes all these variables might get confusing and you would like to know \n",
        "# all the variables you have defined in your environment.\n",
        "# The dir() function is useful here. Try it:\n",
        "\n",
        "dir()"
      ],
      "execution_count": 14,
      "outputs": [
        {
          "output_type": "execute_result",
          "data": {
            "text/plain": [
              "['In',\n",
              " 'Out',\n",
              " '_',\n",
              " '_5',\n",
              " '_6',\n",
              " '_9',\n",
              " '__',\n",
              " '___',\n",
              " '__builtin__',\n",
              " '__builtins__',\n",
              " '__doc__',\n",
              " '__loader__',\n",
              " '__name__',\n",
              " '__package__',\n",
              " '__spec__',\n",
              " '_dh',\n",
              " '_i',\n",
              " '_i1',\n",
              " '_i10',\n",
              " '_i11',\n",
              " '_i12',\n",
              " '_i13',\n",
              " '_i14',\n",
              " '_i2',\n",
              " '_i3',\n",
              " '_i4',\n",
              " '_i5',\n",
              " '_i6',\n",
              " '_i7',\n",
              " '_i8',\n",
              " '_i9',\n",
              " '_ih',\n",
              " '_ii',\n",
              " '_iii',\n",
              " '_oh',\n",
              " '_sh',\n",
              " 'a',\n",
              " 'b',\n",
              " 'c',\n",
              " 'exit',\n",
              " 'get_ipython',\n",
              " 'i',\n",
              " 'list_total',\n",
              " 'mult_str',\n",
              " 'my_float',\n",
              " 'my_int',\n",
              " 'my_string',\n",
              " 'quit',\n",
              " 'shopping_list',\n",
              " 'x']"
            ]
          },
          "metadata": {
            "tags": []
          },
          "execution_count": 14
        }
      ]
    },
    {
      "cell_type": "code",
      "metadata": {
        "id": "Eziw8_tVBODE"
      },
      "source": [
        "# In addition to the variables we have defined, there are what look like some \"Inbuilt\"\n",
        "# values available in our environment"
      ],
      "execution_count": null,
      "outputs": []
    },
    {
      "cell_type": "code",
      "metadata": {
        "colab": {
          "base_uri": "https://localhost:8080/"
        },
        "id": "5KsoqEWgBbeK",
        "outputId": "a61bc464-f3d4-4fa7-8652-9dfa940a3b10"
      },
      "source": [
        "# We can also assign variables with some fancy shortcuts\n",
        "\n",
        "a = b = c = 0\n",
        "\n",
        "x,y = 1,2\n",
        "\n",
        "print(a,b,c)\n",
        "print(x,y)"
      ],
      "execution_count": 16,
      "outputs": [
        {
          "output_type": "stream",
          "text": [
            "0 0 0\n",
            "1 2\n"
          ],
          "name": "stdout"
        }
      ]
    },
    {
      "cell_type": "code",
      "metadata": {
        "colab": {
          "base_uri": "https://localhost:8080/"
        },
        "id": "Jdy1B7UxBsQy",
        "outputId": "c0f64105-bc4f-47ef-fa30-68adf7ae4faf"
      },
      "source": [
        "# You may also swap variable values easily:\n",
        "\n",
        "x,y = y,x\n",
        "\n",
        "print(x,y)"
      ],
      "execution_count": 22,
      "outputs": [
        {
          "output_type": "stream",
          "text": [
            "2 1\n"
          ],
          "name": "stdout"
        }
      ]
    },
    {
      "cell_type": "code",
      "metadata": {
        "colab": {
          "base_uri": "https://localhost:8080/"
        },
        "id": "ZDsTXSoxCF9B",
        "outputId": "d70a9d77-b0de-4017-cfbe-da7ef5cbae19"
      },
      "source": [
        "# Lists! \n",
        "\n",
        "# These are a cool data type and are the topic of more advanced detail for later\n",
        "# but in short, they are \"Containers\" that can contain a collection of values\n",
        "# such as what we attribute to a shopping list in our minds :\n",
        "\n",
        "shoppingList = [\"Bread\", \"Eggs\", \"Jam\", \"Milk\", \"Honey\"]\n",
        "\n",
        "print(shoppingList)"
      ],
      "execution_count": 23,
      "outputs": [
        {
          "output_type": "stream",
          "text": [
            "['Bread', 'Eggs', 'Jam', 'Milk', 'Honey']\n"
          ],
          "name": "stdout"
        }
      ]
    },
    {
      "cell_type": "code",
      "metadata": {
        "colab": {
          "base_uri": "https://localhost:8080/"
        },
        "id": "TXvabgTvDMoQ",
        "outputId": "e8b0ce87-a62a-4d2f-8fbc-9ddc64d5c0c1"
      },
      "source": [
        "# Lists are \"Indexed\" and can be addressed by these \"Indices\" which begin at 0:\n",
        "\n",
        "print(shoppingList[0]) # Print the first element\n",
        "\n",
        "print (shoppingList[3]) # Print out the 4th element"
      ],
      "execution_count": 24,
      "outputs": [
        {
          "output_type": "stream",
          "text": [
            "Bread\n",
            "Milk\n"
          ],
          "name": "stdout"
        }
      ]
    },
    {
      "cell_type": "code",
      "metadata": {
        "colab": {
          "base_uri": "https://localhost:8080/",
          "height": 198
        },
        "id": "phXnYcA9Dcs1",
        "outputId": "771c5740-908f-49c3-ccd6-eb9e3d6c7d66"
      },
      "source": [
        "# But careful now, trying to access an index of a list that doesn't exist will error out:\n",
        "\n",
        "print(shoppingList[100])"
      ],
      "execution_count": 25,
      "outputs": [
        {
          "output_type": "error",
          "ename": "IndexError",
          "evalue": "ignored",
          "traceback": [
            "\u001b[0;31m---------------------------------------------------------------------------\u001b[0m",
            "\u001b[0;31mIndexError\u001b[0m                                Traceback (most recent call last)",
            "\u001b[0;32m<ipython-input-25-b3805f9c6fdd>\u001b[0m in \u001b[0;36m<module>\u001b[0;34m()\u001b[0m\n\u001b[1;32m      1\u001b[0m \u001b[0;31m# But careful now, trying to access an index of a list that doesn't exist will error out:\u001b[0m\u001b[0;34m\u001b[0m\u001b[0;34m\u001b[0m\u001b[0;34m\u001b[0m\u001b[0m\n\u001b[1;32m      2\u001b[0m \u001b[0;34m\u001b[0m\u001b[0m\n\u001b[0;32m----> 3\u001b[0;31m \u001b[0mprint\u001b[0m\u001b[0;34m(\u001b[0m\u001b[0mshoppingList\u001b[0m\u001b[0;34m[\u001b[0m\u001b[0;36m100\u001b[0m\u001b[0;34m]\u001b[0m\u001b[0;34m)\u001b[0m\u001b[0;34m\u001b[0m\u001b[0;34m\u001b[0m\u001b[0m\n\u001b[0m",
            "\u001b[0;31mIndexError\u001b[0m: list index out of range"
          ]
        }
      ]
    },
    {
      "cell_type": "code",
      "metadata": {
        "colab": {
          "base_uri": "https://localhost:8080/"
        },
        "id": "pZSg_efuLgSc",
        "outputId": "9f9b5165-a204-44d4-9819-d9a901f4e009"
      },
      "source": [
        "# You can check if an item exists in a list using the \"item in list\" pattern:\n",
        "\n",
        "\"Eggs\" in shoppingList"
      ],
      "execution_count": 28,
      "outputs": [
        {
          "output_type": "execute_result",
          "data": {
            "text/plain": [
              "True"
            ]
          },
          "metadata": {
            "tags": []
          },
          "execution_count": 28
        }
      ]
    },
    {
      "cell_type": "code",
      "metadata": {
        "colab": {
          "base_uri": "https://localhost:8080/"
        },
        "id": "L5UBia8jL8B5",
        "outputId": "71894fd3-6ece-4c96-add9-996f0039e4e9"
      },
      "source": [
        "# But, careful now, these are case sensitive:\n",
        "\n",
        "\"eggs\" in shoppingList"
      ],
      "execution_count": 29,
      "outputs": [
        {
          "output_type": "execute_result",
          "data": {
            "text/plain": [
              "False"
            ]
          },
          "metadata": {
            "tags": []
          },
          "execution_count": 29
        }
      ]
    },
    {
      "cell_type": "code",
      "metadata": {
        "colab": {
          "base_uri": "https://localhost:8080/"
        },
        "id": "FY29BtxnMBq6",
        "outputId": "9aff0821-9cb3-4cc9-f0eb-bc1ee309f37e"
      },
      "source": [
        "# . . .annnd must be an exact match. No spaces, or other foreign characters:\n",
        "\n",
        "\"Eggs \" in shoppingList"
      ],
      "execution_count": 30,
      "outputs": [
        {
          "output_type": "execute_result",
          "data": {
            "text/plain": [
              "False"
            ]
          },
          "metadata": {
            "tags": []
          },
          "execution_count": 30
        }
      ]
    },
    {
      "cell_type": "code",
      "metadata": {
        "colab": {
          "base_uri": "https://localhost:8080/"
        },
        "id": "4zNYix6CMNuS",
        "outputId": "e14c1340-9a53-4d99-e295-5b6bf103e333"
      },
      "source": [
        "# The len() function returns a length for lists as well. Notice the difference \n",
        "# between this and the len() function applied on a string?\n",
        "\n",
        "len(shoppingList)"
      ],
      "execution_count": 31,
      "outputs": [
        {
          "output_type": "execute_result",
          "data": {
            "text/plain": [
              "5"
            ]
          },
          "metadata": {
            "tags": []
          },
          "execution_count": 31
        }
      ]
    },
    {
      "cell_type": "markdown",
      "metadata": {
        "id": "TvrogOXiJw7T"
      },
      "source": [
        "# Exercises - Part 2\n",
        "\n",
        "1. Re create your shopping list now, as a list.\n",
        "2. Think of another snack, check if it is in your shopping list using the \"item in list\" pattern.\n",
        "3. Print each element of your shopping list on a different line using what we've learned thus far.\n",
        "4. Quick assign two new variables \"first\" and \"second\" with the values of the first two elements of the shopping list.\n",
        "5. Quick Swap the values of these two new variables."
      ]
    },
    {
      "cell_type": "code",
      "metadata": {
        "colab": {
          "base_uri": "https://localhost:8080/"
        },
        "id": "k5-3ubKBDnZ1",
        "outputId": "aefe7cfe-c02d-4d75-f03d-2b7a5da688f4"
      },
      "source": [
        "# Solutions to Part 2:\n",
        "\n",
        "shoppingList = [\"Bread\", \"Eggs\", \"Jam\", \"Milk\", \"Honey\"]\n",
        "\n",
        "print(shoppingList)\n",
        "\n",
        "print(\"Doritos\" in shoppingList)\n",
        "\n",
        "print(shoppingList[0], \"\\n\", shoppingList[1], \"\\n\", shoppingList[2], \"\\n\", shoppingList[3], \"\\n\", shoppingList[4], \"\\n\")\n",
        "\n",
        "first,second = shoppingList[0], shoppingList[1]\n",
        "\n",
        "print(first, second)\n",
        "\n",
        "first, second = second, first\n",
        "\n",
        "print(first, second)\n"
      ],
      "execution_count": 35,
      "outputs": [
        {
          "output_type": "stream",
          "text": [
            "['Bread', 'Eggs', 'Jam', 'Milk', 'Honey']\n",
            "False\n",
            "Bread \n",
            " Eggs \n",
            " Jam \n",
            " Milk \n",
            " Honey \n",
            "\n",
            "Bread Eggs\n",
            "Eggs Bread\n"
          ],
          "name": "stdout"
        }
      ]
    },
    {
      "cell_type": "markdown",
      "metadata": {
        "id": "6O66zJ_fTDfV"
      },
      "source": [
        "# Functions\n",
        "\n",
        "Python hasa lot of built in functions and more can be imported from loadable libraries.\n",
        "\n",
        "Lets look at a few of them:\n",
        "\n",
        " "
      ]
    },
    {
      "cell_type": "code",
      "metadata": {
        "colab": {
          "base_uri": "https://localhost:8080/"
        },
        "id": "wUEcercFUeMs",
        "outputId": "3133a5bd-9a23-406a-854b-eddf3208f7ce"
      },
      "source": [
        "min(2,3,4,5,6) #Return the minimum value of the arguments\n",
        "\n",
        "max(2349, 208320, 238923, 239823) # Similarly, returns the maximum value of the arguments\n",
        "\n",
        "#Print them out separately. Try playing arounf with them."
      ],
      "execution_count": 36,
      "outputs": [
        {
          "output_type": "execute_result",
          "data": {
            "text/plain": [
              "2"
            ]
          },
          "metadata": {
            "tags": []
          },
          "execution_count": 36
        }
      ]
    },
    {
      "cell_type": "code",
      "metadata": {
        "colab": {
          "base_uri": "https://localhost:8080/"
        },
        "id": "6MsMrdieV1px",
        "outputId": "050a7473-a59a-472f-deb3-1964218a8531"
      },
      "source": [
        "# Return the absolute value of the argument:\n",
        "\n",
        "abs(-1)\n",
        "\n"
      ],
      "execution_count": 38,
      "outputs": [
        {
          "output_type": "execute_result",
          "data": {
            "text/plain": [
              "1"
            ]
          },
          "metadata": {
            "tags": []
          },
          "execution_count": 38
        }
      ]
    },
    {
      "cell_type": "code",
      "metadata": {
        "colab": {
          "base_uri": "https://localhost:8080/"
        },
        "id": "70LQKi_8WWSC",
        "outputId": "3005932e-45b2-458c-91c6-7b1bea37dadf"
      },
      "source": [
        "# Round out decimal places\n",
        "\n",
        "round(1.7)"
      ],
      "execution_count": 40,
      "outputs": [
        {
          "output_type": "execute_result",
          "data": {
            "text/plain": [
              "2"
            ]
          },
          "metadata": {
            "tags": []
          },
          "execution_count": 40
        }
      ]
    },
    {
      "cell_type": "code",
      "metadata": {
        "colab": {
          "base_uri": "https://localhost:8080/"
        },
        "id": "NLoYTVVFWgWX",
        "outputId": "4a501ff2-b551-4279-fea3-5537ee346a9e"
      },
      "source": [
        "# We've seen length already:\n",
        "\n",
        "len(\"12345\")"
      ],
      "execution_count": 41,
      "outputs": [
        {
          "output_type": "execute_result",
          "data": {
            "text/plain": [
              "5"
            ]
          },
          "metadata": {
            "tags": []
          },
          "execution_count": 41
        }
      ]
    },
    {
      "cell_type": "code",
      "metadata": {
        "id": "JfIwtVRDaigI"
      },
      "source": [
        "# These are mainly \"Inbuilt\" functions with Python. ie, the functions that some\n",
        "# smart people somewhere wrote and decided to ship out with the basic Python installations.\n",
        "\n",
        "# Similarly, you can import other modules. Lets take a look at one such example:\n",
        "\n",
        "import os"
      ],
      "execution_count": 43,
      "outputs": []
    },
    {
      "cell_type": "code",
      "metadata": {
        "colab": {
          "base_uri": "https://localhost:8080/"
        },
        "id": "7a7IxC7tbbIE",
        "outputId": "cb3eb0c1-e3bd-474f-97bc-1a58cd9ed947"
      },
      "source": [
        "# This loads the os module. A module is simply a file with statements and definitions\n",
        "# of functions written into it.\n",
        "\n",
        "# The os module contains functions dealing with the Operating System on the computer that Python is running on.\n",
        "\n",
        "# To see everything defined in the os module, use the following statement:\n",
        "\n",
        "dir(os)"
      ],
      "execution_count": 44,
      "outputs": [
        {
          "output_type": "execute_result",
          "data": {
            "text/plain": [
              "['CLD_CONTINUED',\n",
              " 'CLD_DUMPED',\n",
              " 'CLD_EXITED',\n",
              " 'CLD_TRAPPED',\n",
              " 'DirEntry',\n",
              " 'EX_CANTCREAT',\n",
              " 'EX_CONFIG',\n",
              " 'EX_DATAERR',\n",
              " 'EX_IOERR',\n",
              " 'EX_NOHOST',\n",
              " 'EX_NOINPUT',\n",
              " 'EX_NOPERM',\n",
              " 'EX_NOUSER',\n",
              " 'EX_OK',\n",
              " 'EX_OSERR',\n",
              " 'EX_OSFILE',\n",
              " 'EX_PROTOCOL',\n",
              " 'EX_SOFTWARE',\n",
              " 'EX_TEMPFAIL',\n",
              " 'EX_UNAVAILABLE',\n",
              " 'EX_USAGE',\n",
              " 'F_LOCK',\n",
              " 'F_OK',\n",
              " 'F_TEST',\n",
              " 'F_TLOCK',\n",
              " 'F_ULOCK',\n",
              " 'GRND_NONBLOCK',\n",
              " 'GRND_RANDOM',\n",
              " 'MutableMapping',\n",
              " 'NGROUPS_MAX',\n",
              " 'O_ACCMODE',\n",
              " 'O_APPEND',\n",
              " 'O_ASYNC',\n",
              " 'O_CLOEXEC',\n",
              " 'O_CREAT',\n",
              " 'O_DIRECT',\n",
              " 'O_DIRECTORY',\n",
              " 'O_DSYNC',\n",
              " 'O_EXCL',\n",
              " 'O_LARGEFILE',\n",
              " 'O_NDELAY',\n",
              " 'O_NOATIME',\n",
              " 'O_NOCTTY',\n",
              " 'O_NOFOLLOW',\n",
              " 'O_NONBLOCK',\n",
              " 'O_PATH',\n",
              " 'O_RDONLY',\n",
              " 'O_RDWR',\n",
              " 'O_RSYNC',\n",
              " 'O_SYNC',\n",
              " 'O_TMPFILE',\n",
              " 'O_TRUNC',\n",
              " 'O_WRONLY',\n",
              " 'POSIX_FADV_DONTNEED',\n",
              " 'POSIX_FADV_NOREUSE',\n",
              " 'POSIX_FADV_NORMAL',\n",
              " 'POSIX_FADV_RANDOM',\n",
              " 'POSIX_FADV_SEQUENTIAL',\n",
              " 'POSIX_FADV_WILLNEED',\n",
              " 'PRIO_PGRP',\n",
              " 'PRIO_PROCESS',\n",
              " 'PRIO_USER',\n",
              " 'P_ALL',\n",
              " 'P_NOWAIT',\n",
              " 'P_NOWAITO',\n",
              " 'P_PGID',\n",
              " 'P_PID',\n",
              " 'P_WAIT',\n",
              " 'PathLike',\n",
              " 'RTLD_DEEPBIND',\n",
              " 'RTLD_GLOBAL',\n",
              " 'RTLD_LAZY',\n",
              " 'RTLD_LOCAL',\n",
              " 'RTLD_NODELETE',\n",
              " 'RTLD_NOLOAD',\n",
              " 'RTLD_NOW',\n",
              " 'RWF_DSYNC',\n",
              " 'RWF_HIPRI',\n",
              " 'RWF_NOWAIT',\n",
              " 'RWF_SYNC',\n",
              " 'R_OK',\n",
              " 'SCHED_BATCH',\n",
              " 'SCHED_FIFO',\n",
              " 'SCHED_IDLE',\n",
              " 'SCHED_OTHER',\n",
              " 'SCHED_RESET_ON_FORK',\n",
              " 'SCHED_RR',\n",
              " 'SEEK_CUR',\n",
              " 'SEEK_DATA',\n",
              " 'SEEK_END',\n",
              " 'SEEK_HOLE',\n",
              " 'SEEK_SET',\n",
              " 'ST_APPEND',\n",
              " 'ST_MANDLOCK',\n",
              " 'ST_NOATIME',\n",
              " 'ST_NODEV',\n",
              " 'ST_NODIRATIME',\n",
              " 'ST_NOEXEC',\n",
              " 'ST_NOSUID',\n",
              " 'ST_RDONLY',\n",
              " 'ST_RELATIME',\n",
              " 'ST_SYNCHRONOUS',\n",
              " 'ST_WRITE',\n",
              " 'TMP_MAX',\n",
              " 'WCONTINUED',\n",
              " 'WCOREDUMP',\n",
              " 'WEXITED',\n",
              " 'WEXITSTATUS',\n",
              " 'WIFCONTINUED',\n",
              " 'WIFEXITED',\n",
              " 'WIFSIGNALED',\n",
              " 'WIFSTOPPED',\n",
              " 'WNOHANG',\n",
              " 'WNOWAIT',\n",
              " 'WSTOPPED',\n",
              " 'WSTOPSIG',\n",
              " 'WTERMSIG',\n",
              " 'WUNTRACED',\n",
              " 'W_OK',\n",
              " 'XATTR_CREATE',\n",
              " 'XATTR_REPLACE',\n",
              " 'XATTR_SIZE_MAX',\n",
              " 'X_OK',\n",
              " '_Environ',\n",
              " '__all__',\n",
              " '__builtins__',\n",
              " '__cached__',\n",
              " '__doc__',\n",
              " '__file__',\n",
              " '__loader__',\n",
              " '__name__',\n",
              " '__package__',\n",
              " '__spec__',\n",
              " '_check_methods',\n",
              " '_execvpe',\n",
              " '_exists',\n",
              " '_exit',\n",
              " '_fspath',\n",
              " '_fwalk',\n",
              " '_get_exports_list',\n",
              " '_putenv',\n",
              " '_spawnvef',\n",
              " '_unsetenv',\n",
              " '_wrap_close',\n",
              " 'abc',\n",
              " 'abort',\n",
              " 'access',\n",
              " 'altsep',\n",
              " 'chdir',\n",
              " 'chmod',\n",
              " 'chown',\n",
              " 'chroot',\n",
              " 'close',\n",
              " 'closerange',\n",
              " 'confstr',\n",
              " 'confstr_names',\n",
              " 'cpu_count',\n",
              " 'ctermid',\n",
              " 'curdir',\n",
              " 'defpath',\n",
              " 'device_encoding',\n",
              " 'devnull',\n",
              " 'dup',\n",
              " 'dup2',\n",
              " 'environ',\n",
              " 'environb',\n",
              " 'error',\n",
              " 'execl',\n",
              " 'execle',\n",
              " 'execlp',\n",
              " 'execlpe',\n",
              " 'execv',\n",
              " 'execve',\n",
              " 'execvp',\n",
              " 'execvpe',\n",
              " 'extsep',\n",
              " 'fchdir',\n",
              " 'fchmod',\n",
              " 'fchown',\n",
              " 'fdatasync',\n",
              " 'fdopen',\n",
              " 'fork',\n",
              " 'forkpty',\n",
              " 'fpathconf',\n",
              " 'fsdecode',\n",
              " 'fsencode',\n",
              " 'fspath',\n",
              " 'fstat',\n",
              " 'fstatvfs',\n",
              " 'fsync',\n",
              " 'ftruncate',\n",
              " 'fwalk',\n",
              " 'get_blocking',\n",
              " 'get_exec_path',\n",
              " 'get_inheritable',\n",
              " 'get_terminal_size',\n",
              " 'getcwd',\n",
              " 'getcwdb',\n",
              " 'getegid',\n",
              " 'getenv',\n",
              " 'getenvb',\n",
              " 'geteuid',\n",
              " 'getgid',\n",
              " 'getgrouplist',\n",
              " 'getgroups',\n",
              " 'getloadavg',\n",
              " 'getlogin',\n",
              " 'getpgid',\n",
              " 'getpgrp',\n",
              " 'getpid',\n",
              " 'getppid',\n",
              " 'getpriority',\n",
              " 'getrandom',\n",
              " 'getresgid',\n",
              " 'getresuid',\n",
              " 'getsid',\n",
              " 'getuid',\n",
              " 'getxattr',\n",
              " 'initgroups',\n",
              " 'isatty',\n",
              " 'kill',\n",
              " 'killpg',\n",
              " 'lchown',\n",
              " 'linesep',\n",
              " 'link',\n",
              " 'listdir',\n",
              " 'listxattr',\n",
              " 'lockf',\n",
              " 'lseek',\n",
              " 'lstat',\n",
              " 'major',\n",
              " 'makedev',\n",
              " 'makedirs',\n",
              " 'minor',\n",
              " 'mkdir',\n",
              " 'mkfifo',\n",
              " 'mknod',\n",
              " 'name',\n",
              " 'nice',\n",
              " 'open',\n",
              " 'openpty',\n",
              " 'pardir',\n",
              " 'path',\n",
              " 'pathconf',\n",
              " 'pathconf_names',\n",
              " 'pathsep',\n",
              " 'pipe',\n",
              " 'pipe2',\n",
              " 'popen',\n",
              " 'posix_fadvise',\n",
              " 'posix_fallocate',\n",
              " 'pread',\n",
              " 'preadv',\n",
              " 'putenv',\n",
              " 'pwrite',\n",
              " 'pwritev',\n",
              " 'read',\n",
              " 'readlink',\n",
              " 'readv',\n",
              " 'register_at_fork',\n",
              " 'remove',\n",
              " 'removedirs',\n",
              " 'removexattr',\n",
              " 'rename',\n",
              " 'renames',\n",
              " 'replace',\n",
              " 'rmdir',\n",
              " 'scandir',\n",
              " 'sched_get_priority_max',\n",
              " 'sched_get_priority_min',\n",
              " 'sched_getaffinity',\n",
              " 'sched_getparam',\n",
              " 'sched_getscheduler',\n",
              " 'sched_param',\n",
              " 'sched_rr_get_interval',\n",
              " 'sched_setaffinity',\n",
              " 'sched_setparam',\n",
              " 'sched_setscheduler',\n",
              " 'sched_yield',\n",
              " 'sendfile',\n",
              " 'sep',\n",
              " 'set_blocking',\n",
              " 'set_inheritable',\n",
              " 'setegid',\n",
              " 'seteuid',\n",
              " 'setgid',\n",
              " 'setgroups',\n",
              " 'setpgid',\n",
              " 'setpgrp',\n",
              " 'setpriority',\n",
              " 'setregid',\n",
              " 'setresgid',\n",
              " 'setresuid',\n",
              " 'setreuid',\n",
              " 'setsid',\n",
              " 'setuid',\n",
              " 'setxattr',\n",
              " 'spawnl',\n",
              " 'spawnle',\n",
              " 'spawnlp',\n",
              " 'spawnlpe',\n",
              " 'spawnv',\n",
              " 'spawnve',\n",
              " 'spawnvp',\n",
              " 'spawnvpe',\n",
              " 'st',\n",
              " 'stat',\n",
              " 'stat_result',\n",
              " 'statvfs',\n",
              " 'statvfs_result',\n",
              " 'strerror',\n",
              " 'supports_bytes_environ',\n",
              " 'supports_dir_fd',\n",
              " 'supports_effective_ids',\n",
              " 'supports_fd',\n",
              " 'supports_follow_symlinks',\n",
              " 'symlink',\n",
              " 'sync',\n",
              " 'sys',\n",
              " 'sysconf',\n",
              " 'sysconf_names',\n",
              " 'system',\n",
              " 'tcgetpgrp',\n",
              " 'tcsetpgrp',\n",
              " 'terminal_size',\n",
              " 'times',\n",
              " 'times_result',\n",
              " 'truncate',\n",
              " 'ttyname',\n",
              " 'umask',\n",
              " 'uname',\n",
              " 'uname_result',\n",
              " 'unlink',\n",
              " 'unsetenv',\n",
              " 'urandom',\n",
              " 'utime',\n",
              " 'wait',\n",
              " 'wait3',\n",
              " 'wait4',\n",
              " 'waitid',\n",
              " 'waitid_result',\n",
              " 'waitpid',\n",
              " 'walk',\n",
              " 'write',\n",
              " 'writev']"
            ]
          },
          "metadata": {
            "tags": []
          },
          "execution_count": 44
        }
      ]
    },
    {
      "cell_type": "code",
      "metadata": {
        "colab": {
          "base_uri": "https://localhost:8080/",
          "height": 35
        },
        "id": "gSaXP8Hxb3Ro",
        "outputId": "896b149c-b810-4e80-eb9f-f643bb3b412c"
      },
      "source": [
        "# Now, we can use the functions defined in the os module like so:\n",
        "#Remember, we are running this on a Google Server in this notebook.\n",
        "\n",
        "os.name "
      ],
      "execution_count": 45,
      "outputs": [
        {
          "output_type": "execute_result",
          "data": {
            "application/vnd.google.colaboratory.intrinsic+json": {
              "type": "string"
            },
            "text/plain": [
              "'posix'"
            ]
          },
          "metadata": {
            "tags": []
          },
          "execution_count": 45
        }
      ]
    },
    {
      "cell_type": "code",
      "metadata": {
        "colab": {
          "base_uri": "https://localhost:8080/"
        },
        "id": "Jxy7B9hOc3D6",
        "outputId": "5669d044-e8b5-4000-da0e-ccde4dce5e26"
      },
      "source": [
        "# List all files in the directory\n",
        "os.listdir()"
      ],
      "execution_count": 46,
      "outputs": [
        {
          "output_type": "execute_result",
          "data": {
            "text/plain": [
              "['.config', 'sample_data']"
            ]
          },
          "metadata": {
            "tags": []
          },
          "execution_count": 46
        }
      ]
    },
    {
      "cell_type": "code",
      "metadata": {
        "id": "URSynu6uerdN"
      },
      "source": [
        "# Instead of importing and ENTIRE module, you may choose to only import specific functions\n",
        "\n",
        "from os import name, listdir"
      ],
      "execution_count": 47,
      "outputs": []
    },
    {
      "cell_type": "markdown",
      "metadata": {
        "id": "-uWlBEAyzaWu"
      },
      "source": [
        "# Making your own functions\n",
        "\n",
        "Functions (in Python) are really just special variables (or data types) that can have input and output. Obce defined, you can treat them like any other variables.\n",
        "\n",
        "Functions are defined with a specific syntax:\n",
        "\n",
        "\n",
        "\n",
        "*   Start with the keyword \"def\"\n",
        "*   followed by the function name, and\n",
        "*   a list of arguments enclosed in \"()\", then\n",
        "*   the line ends with a \":\", and\n",
        "*   the body of the function is indented on the following lines\n",
        "\n",
        "\n",
        "Python uses white space to determine blocks.\n",
        "\n",
        "To have output from the funciton, the \"return\" keyword is used, followd by the thing to be returned. For no output, use \"return\" by itself or just leave it out.\n",
        "\n",
        "\n"
      ]
    },
    {
      "cell_type": "code",
      "metadata": {
        "id": "EPWj1zq90NgW"
      },
      "source": [
        "# Your first function:\n",
        "\n",
        "def first_func(x):\n",
        "  return x*2\n",
        "\n",
        "# Running this cell returns no output as intended.\n",
        "# All we're doing here is declaring to the python interpreter that there is now a \n",
        "# new function with the name \"first_func\" and with the functionality declared."
      ],
      "execution_count": 2,
      "outputs": []
    },
    {
      "cell_type": "code",
      "metadata": {
        "colab": {
          "base_uri": "https://localhost:8080/"
        },
        "id": "fAoNmTpVzXBh",
        "outputId": "fc052249-562b-4ebd-aeab-069f4c08d257"
      },
      "source": [
        "# Now, this function can be used like all the others we have used thus far:\n",
        "\n",
        "first_func(10)"
      ],
      "execution_count": 3,
      "outputs": [
        {
          "output_type": "execute_result",
          "data": {
            "text/plain": [
              "20"
            ]
          },
          "metadata": {
            "tags": []
          },
          "execution_count": 3
        }
      ]
    },
    {
      "cell_type": "code",
      "metadata": {
        "colab": {
          "base_uri": "https://localhost:8080/",
          "height": 35
        },
        "id": "wGsiQMsw0eaP",
        "outputId": "35ccd6d4-5104-4f2a-fc2a-45605730e75c"
      },
      "source": [
        "# Try passing a string. How would we handle the case where we only want this function\n",
        "# to work with numbers?\n",
        "\n",
        "first_func(\"hello\")"
      ],
      "execution_count": 4,
      "outputs": [
        {
          "output_type": "execute_result",
          "data": {
            "application/vnd.google.colaboratory.intrinsic+json": {
              "type": "string"
            },
            "text/plain": [
              "'hellohello'"
            ]
          },
          "metadata": {
            "tags": []
          },
          "execution_count": 4
        }
      ]
    },
    {
      "cell_type": "code",
      "metadata": {
        "id": "yL-EZjuf0smc"
      },
      "source": [
        "# Lets try multiple arguments:\n",
        "\n",
        "def add(a,b):\n",
        "  return a+b"
      ],
      "execution_count": 6,
      "outputs": []
    },
    {
      "cell_type": "code",
      "metadata": {
        "colab": {
          "base_uri": "https://localhost:8080/"
        },
        "id": "jKuirnUZ0svD",
        "outputId": "00eb5cf3-ffd2-4641-d139-05aa7beb57a5"
      },
      "source": [
        "# Now call the function:\n",
        "\n",
        "add(2,3)"
      ],
      "execution_count": 7,
      "outputs": [
        {
          "output_type": "execute_result",
          "data": {
            "text/plain": [
              "5"
            ]
          },
          "metadata": {
            "tags": []
          },
          "execution_count": 7
        }
      ]
    },
    {
      "cell_type": "code",
      "metadata": {
        "id": "ZSMK96d-1Rgr"
      },
      "source": [
        "# Similarly, we can use our imagination to declare any kind of function:\n",
        "\n",
        "def multiply(a,b):\n",
        "  return a*b"
      ],
      "execution_count": 8,
      "outputs": []
    },
    {
      "cell_type": "code",
      "metadata": {
        "colab": {
          "base_uri": "https://localhost:8080/"
        },
        "id": "piJ5UQt71lC_",
        "outputId": "5ecd62fa-86b6-4f55-ac81-deb3f0797f2d"
      },
      "source": [
        "# And once again, call the function by passing in arguments:\n",
        "\n",
        "multiply(4,5)"
      ],
      "execution_count": 9,
      "outputs": [
        {
          "output_type": "execute_result",
          "data": {
            "text/plain": [
              "20"
            ]
          },
          "metadata": {
            "tags": []
          },
          "execution_count": 9
        }
      ]
    },
    {
      "cell_type": "code",
      "metadata": {
        "id": "stomlPKt2xE1"
      },
      "source": [
        "# You can give arguments default values, this makes them optional:\n",
        "\n",
        "def f(a,b, c=1):\n",
        "  return (a+b) + c"
      ],
      "execution_count": 13,
      "outputs": []
    },
    {
      "cell_type": "code",
      "metadata": {
        "colab": {
          "base_uri": "https://localhost:8080/"
        },
        "id": "2NvAXerP276M",
        "outputId": "693f6838-fedf-4eba-e936-8cb54c141fe8"
      },
      "source": [
        "# Calling a function and explicitly assigning a value to something that already\n",
        "# has one, \"overrides\" that value:\n",
        "\n",
        "f(1,2,3)"
      ],
      "execution_count": 14,
      "outputs": [
        {
          "output_type": "execute_result",
          "data": {
            "text/plain": [
              "6"
            ]
          },
          "metadata": {
            "tags": []
          },
          "execution_count": 14
        }
      ]
    },
    {
      "cell_type": "code",
      "metadata": {
        "colab": {
          "base_uri": "https://localhost:8080/"
        },
        "id": "7JwS4Rni3LB2",
        "outputId": "d66d485a-35d1-47e2-aa1f-e43bd879b289"
      },
      "source": [
        "# You can also call the arguments by name:\n",
        "f(c=5, a=10, b=5)"
      ],
      "execution_count": 15,
      "outputs": [
        {
          "output_type": "execute_result",
          "data": {
            "text/plain": [
              "20"
            ]
          },
          "metadata": {
            "tags": []
          },
          "execution_count": 15
        }
      ]
    },
    {
      "cell_type": "markdown",
      "metadata": {
        "id": "VRcljeK-1xtr"
      },
      "source": [
        "# Exercises Part 3\n",
        "\n",
        "1. Write a function called \"multiply_snacks()\" that takes a snack name as the input and prints it 100 times\n",
        "2. Try modifying your function to print the snack 100 times with a space in between the words if you haven't done this already.\n"
      ]
    },
    {
      "cell_type": "code",
      "metadata": {
        "id": "HXYLmC_x2Mzq"
      },
      "source": [
        "# Solutions to Part 3 \n",
        "\n",
        "def multiply_snacks(snack_name):\n",
        "  return snack_name*100\n",
        "\n",
        "def multiply_snacks_with_space(snack_name):\n",
        "  return (snack_name + ' ')*100"
      ],
      "execution_count": 11,
      "outputs": []
    },
    {
      "cell_type": "code",
      "metadata": {
        "colab": {
          "base_uri": "https://localhost:8080/",
          "height": 69
        },
        "id": "FbcctzUL2RhS",
        "outputId": "9faa84be-9627-4e33-b59b-64b127d116f2"
      },
      "source": [
        "multiply_snacks_with_space(\"Doritos\")"
      ],
      "execution_count": 12,
      "outputs": [
        {
          "output_type": "execute_result",
          "data": {
            "application/vnd.google.colaboratory.intrinsic+json": {
              "type": "string"
            },
            "text/plain": [
              "'Doritos Doritos Doritos Doritos Doritos Doritos Doritos Doritos Doritos Doritos Doritos Doritos Doritos Doritos Doritos Doritos Doritos Doritos Doritos Doritos Doritos Doritos Doritos Doritos Doritos Doritos Doritos Doritos Doritos Doritos Doritos Doritos Doritos Doritos Doritos Doritos Doritos Doritos Doritos Doritos Doritos Doritos Doritos Doritos Doritos Doritos Doritos Doritos Doritos Doritos Doritos Doritos Doritos Doritos Doritos Doritos Doritos Doritos Doritos Doritos Doritos Doritos Doritos Doritos Doritos Doritos Doritos Doritos Doritos Doritos Doritos Doritos Doritos Doritos Doritos Doritos Doritos Doritos Doritos Doritos Doritos Doritos Doritos Doritos Doritos Doritos Doritos Doritos Doritos Doritos Doritos Doritos Doritos Doritos Doritos Doritos Doritos Doritos Doritos Doritos '"
            ]
          },
          "metadata": {
            "tags": []
          },
          "execution_count": 12
        }
      ]
    }
  ]
}